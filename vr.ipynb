{
 "cells": [
  {
   "cell_type": "markdown",
   "id": "3f679ca1-3508-474f-a6b6-b9431ac8e39a",
   "metadata": {},
   "source": [
    "https://data.world/cityofchicago/gumc-mgzr"
   ]
  },
  {
   "cell_type": "markdown",
   "id": "dbaa46b1-5b8e-496d-a70e-0f82572f16b3",
   "metadata": {},
   "source": [
    "Original Title: Violence Reduction - Victims of Homicides and Non-Fatal Shootings\n",
    "\n",
    "This dataset contains individual-level homicide and non-fatal shooting victimizations from 2016 to the present. Each row represents a single victimization, i.e., a unique event when an individual became the victim of a violent index crime. Each row does not represent a unique victim—if someone is victimized multiple times there will be multiple rows for each of those distinct events. These classifications are slightly different from the Chicago Police Department’s (CPD) traditional Illinois Uniform Crime Reporting (IUCR) classifications of criminal incidents. \"Fatal Shooting,\" \"Non-Shooting Homicide,\" and \"Non-Fatal Shooting\" are not IUCR primary descriptions (IUCR primary descriptions do not specify type of injury). However, due to the severity of gun violence in Chicago, the City has chosen to depart slightly from IUCR primary descriptions used in this dataset to highlight injuries caused by guns. The dataset is refreshed daily, but excludes the most recent complete day to allow CPD time to gather the best available information. Each time the dataset is refreshed, records can change as CPD learns more about each victimization, especially those victimizations that are most recent. The data on the Mayor's Office Violence Reduction Dashboard is updated daily with an approximately 48-hour lag. As cases are passed from the initial reporting officer to the investigating detectives, some recorded data about incidents and victimizations may change once additional information arises. Regularly updated datasets on the City's public portal may change to reflect new or corrected information. A version of this dataset with additional crime types is available by request. To make a request, please email dataportal@cityofchicago.org with the subject line: Violence Reduction Victims Access Request. Access will require an account on this site, which you may create at https://data.cityofchicago.org/signup. Note: The definition of “homicide” (shooting or otherwise) does not include justifiable homicide or involuntary manslaughter. This dataset also excludes any cases that CPD considers to be “unfounded” or “noncriminal.” Officer-involved shootings are also excluded; when an officer discharges their weapon, a separate case report is generated using one of the following IUCR codes: 5060, 5103, 5104, 5140, 5141, 5142. Note: The initial reporting officer usually asks victims to report demographic data. If victims are unable to recall, the reporting officer will use their best judgment. “Unknown” can be reported if it is truly unknown.\n",
    "\n",
    "Source: https://data.cityofchicago.org/d/gumc-mgzr\n",
    "Last updated at https://data.cityofchicago.org/ : 2021-05-29\n"
   ]
  },
  {
   "cell_type": "markdown",
   "id": "5510c1c0-b742-49b9-a76b-8210f95d87a8",
   "metadata": {},
   "source": [
    "### Перевод:"
   ]
  },
  {
   "cell_type": "markdown",
   "id": "6a4b4f70-d63b-4390-81b8-84995c888a1c",
   "metadata": {},
   "source": [
    "Оригинальное название: Violence Reduction — Жертвы убийств и стрельбы без смертельного исхода\n",
    "\n",
    "Этот набор данных содержит индивидуальные убийства и несмертельные случаи стрельбы с 2016 года по настоящее время. Каждая строка представляет одну виктимизацию, т. е. уникальное событие, когда человек стал жертвой индексного насильственного преступления. Каждая строка не представляет уникальную жертву — если кто-то становится жертвой несколько раз, для каждого из этих отдельных событий будет несколько строк. Эти классификации немного отличаются от традиционных классификаций уголовных происшествий Департамента полиции Чикаго (CPD) Иллинойса. «Стрельба со смертельным исходом», «Убийство без стрельбы» и «Стрельба без смертельного исхода» не являются основными описаниями IUCR (в основных описаниях IUCR не указывается тип травмы). Однако из-за серьезности насилия с применением огнестрельного оружия в Чикаго городские власти решили немного отойти от основных описаний IUCR, используемых в этом наборе данных, чтобы выделить травмы, нанесенные огнестрельным оружием. Набор данных обновляется ежедневно, но исключает самый последний полный день, чтобы дать CPD время для сбора наилучшей доступной информации. Каждый раз, когда набор данных обновляется, записи могут меняться, поскольку CPD узнает больше о каждой виктимизации, особенно о самых последних виктимизациях. Данные на информационной панели мэрии по снижению уровня насилия обновляются ежедневно с задержкой примерно в 48 часов. По мере того, как дела передаются от сотрудника, ответственного за первоначальное сообщение, следователям, некоторые зарегистрированные данные об инцидентах и ​​виктимизации могут измениться по мере поступления дополнительной информации. Регулярно обновляемые наборы данных на публичном портале города могут меняться, чтобы отражать новую или исправленную информацию. Версия этого набора данных с дополнительными типами преступлений доступна по запросу. Чтобы сделать запрос, отправьте электронное письмо по адресу dataportal@cityofchicago.org, указав в строке темы: Запрос на доступ к жертвам сокращения насилия. Для доступа потребуется учетная запись на этом сайте, которую вы можете создать по адресу https://data.cityofchicago.org/signup. Примечание. Определение «убийство» (стрельба или иное) не включает оправданное убийство или непредумышленное убийство. Этот набор данных также исключает любые случаи, которые CPD считает «необоснованными» или «неуголовными». Стрельба с участием офицеров также исключена; когда офицер разряжает свое оружие, создается отдельный отчет о случае с использованием одного из следующих кодов IUCR: 5060, 5103, 5104, 5140, 5141, 5142. Примечание: первоначально сообщающий офицер обычно просит жертв сообщить демографические данные. Если потерпевшие не могут вспомнить, офицер-докладчик примет надлежащее решение. «Неизвестно» можно сообщить, если оно действительно неизвестно.\n",
    "\n",
    "Источник: https://data.cityofchicago.org/d/gumc-mgzr.\n",
    "Последнее обновление на https://data.cityofchicago.org/: 29 мая 2021 г."
   ]
  },
  {
   "cell_type": "code",
   "execution_count": 1,
   "id": "43db1b1d-9074-4b4c-aaab-e1eceef379a2",
   "metadata": {
    "tags": []
   },
   "outputs": [],
   "source": [
    "import pandas as pd"
   ]
  },
  {
   "cell_type": "code",
   "execution_count": 2,
   "id": "5806cf22-1f7e-45e4-a8cb-c1da8ac80bdd",
   "metadata": {
    "tags": []
   },
   "outputs": [],
   "source": [
    "df = pd.read_csv('/home/roman/violence_reduction/violence-reduction-victims-of-homicides-and-non-fatal-shootings-1.csv')"
   ]
  },
  {
   "cell_type": "code",
   "execution_count": 4,
   "id": "4a1880c5-8c1a-4774-8b41-d595e01ce243",
   "metadata": {
    "tags": []
   },
   "outputs": [
    {
     "data": {
      "text/html": [
       "<div>\n",
       "<style scoped>\n",
       "    .dataframe tbody tr th:only-of-type {\n",
       "        vertical-align: middle;\n",
       "    }\n",
       "\n",
       "    .dataframe tbody tr th {\n",
       "        vertical-align: top;\n",
       "    }\n",
       "\n",
       "    .dataframe thead th {\n",
       "        text-align: right;\n",
       "    }\n",
       "</style>\n",
       "<table border=\"1\" class=\"dataframe\">\n",
       "  <thead>\n",
       "    <tr style=\"text-align: right;\">\n",
       "      <th></th>\n",
       "      <th>CASE_NUMBER</th>\n",
       "      <th>DATE</th>\n",
       "      <th>BLOCK</th>\n",
       "      <th>PRIMARY_TYPE</th>\n",
       "      <th>UNIQUE_ID</th>\n",
       "      <th>ZIP_CODE</th>\n",
       "      <th>WARD</th>\n",
       "      <th>COMMUNITY_AREA</th>\n",
       "      <th>STREET OUTREACH ORGANIZATION</th>\n",
       "      <th>AREA</th>\n",
       "      <th>...</th>\n",
       "      <th>FBI_CD</th>\n",
       "      <th>FBI_DESCR</th>\n",
       "      <th>IUCR_CD</th>\n",
       "      <th>IUCR_SECONDARY</th>\n",
       "      <th>MONTH</th>\n",
       "      <th>DAY_OF_WEEK</th>\n",
       "      <th>HOUR</th>\n",
       "      <th>LATITUDE</th>\n",
       "      <th>LONGITUDE</th>\n",
       "      <th>LOCATION</th>\n",
       "    </tr>\n",
       "  </thead>\n",
       "  <tbody>\n",
       "    <tr>\n",
       "      <th>0</th>\n",
       "      <td>JE235091</td>\n",
       "      <td>05/19/2021 11:20:00 AM</td>\n",
       "      <td>7400  S DR MARTIN</td>\n",
       "      <td>FATAL SHOOTING</td>\n",
       "      <td>HOM-JE235091-1</td>\n",
       "      <td>60619</td>\n",
       "      <td>6</td>\n",
       "      <td>GREATER GRAND CROSSING</td>\n",
       "      <td>Acclivus Greater Grand Crossing</td>\n",
       "      <td>1</td>\n",
       "      <td>...</td>\n",
       "      <td>01A</td>\n",
       "      <td>HOMICIDE - 1ST OR 2ND DEGREE (INDEX)</td>\n",
       "      <td>0110</td>\n",
       "      <td>FIRST DEGREE MURDER</td>\n",
       "      <td>5</td>\n",
       "      <td>4</td>\n",
       "      <td>11</td>\n",
       "      <td>41.759333</td>\n",
       "      <td>-87.615011</td>\n",
       "      <td>POINT (-87.615010941301 41.759333095858)</td>\n",
       "    </tr>\n",
       "    <tr>\n",
       "      <th>1</th>\n",
       "      <td>JE240540</td>\n",
       "      <td>05/24/2021 12:01:00 AM</td>\n",
       "      <td>2000  N LARAMIE AVE</td>\n",
       "      <td>FATAL SHOOTING</td>\n",
       "      <td>HOM-JE240540-1</td>\n",
       "      <td>60639</td>\n",
       "      <td>36</td>\n",
       "      <td>BELMONT CRAGIN</td>\n",
       "      <td>ALSO Belmont Cragin</td>\n",
       "      <td>3</td>\n",
       "      <td>...</td>\n",
       "      <td>04B</td>\n",
       "      <td>AGGRAVATED BATTERY (INDEX)</td>\n",
       "      <td>041A</td>\n",
       "      <td>AGGRAVATED - HANDGUN</td>\n",
       "      <td>5</td>\n",
       "      <td>2</td>\n",
       "      <td>0</td>\n",
       "      <td>41.919410</td>\n",
       "      <td>-87.755999</td>\n",
       "      <td>POINT (-87.755998547471 41.919409668947)</td>\n",
       "    </tr>\n",
       "    <tr>\n",
       "      <th>2</th>\n",
       "      <td>JE241639</td>\n",
       "      <td>05/24/2021 09:05:00 PM</td>\n",
       "      <td>500  S OAKLEY BLVD</td>\n",
       "      <td>FATAL SHOOTING</td>\n",
       "      <td>HOM-JE241639-1</td>\n",
       "      <td>60612</td>\n",
       "      <td>28</td>\n",
       "      <td>NEAR WEST SIDE</td>\n",
       "      <td>None</td>\n",
       "      <td>3</td>\n",
       "      <td>...</td>\n",
       "      <td>01A</td>\n",
       "      <td>HOMICIDE - 1ST OR 2ND DEGREE (INDEX)</td>\n",
       "      <td>0110</td>\n",
       "      <td>FIRST DEGREE MURDER</td>\n",
       "      <td>5</td>\n",
       "      <td>2</td>\n",
       "      <td>21</td>\n",
       "      <td>41.875343</td>\n",
       "      <td>-87.684209</td>\n",
       "      <td>POINT (-87.684209058699 41.875343095858)</td>\n",
       "    </tr>\n",
       "  </tbody>\n",
       "</table>\n",
       "<p>3 rows × 25 columns</p>\n",
       "</div>"
      ],
      "text/plain": [
       "  CASE_NUMBER                    DATE                BLOCK    PRIMARY_TYPE  \\\n",
       "0    JE235091  05/19/2021 11:20:00 AM    7400  S DR MARTIN  FATAL SHOOTING   \n",
       "1    JE240540  05/24/2021 12:01:00 AM  2000  N LARAMIE AVE  FATAL SHOOTING   \n",
       "2    JE241639  05/24/2021 09:05:00 PM   500  S OAKLEY BLVD  FATAL SHOOTING   \n",
       "\n",
       "        UNIQUE_ID  ZIP_CODE  WARD          COMMUNITY_AREA  \\\n",
       "0  HOM-JE235091-1     60619     6  GREATER GRAND CROSSING   \n",
       "1  HOM-JE240540-1     60639    36          BELMONT CRAGIN   \n",
       "2  HOM-JE241639-1     60612    28          NEAR WEST SIDE   \n",
       "\n",
       "      STREET OUTREACH ORGANIZATION  AREA  ...  FBI_CD  \\\n",
       "0  Acclivus Greater Grand Crossing     1  ...     01A   \n",
       "1              ALSO Belmont Cragin     3  ...     04B   \n",
       "2                             None     3  ...     01A   \n",
       "\n",
       "                              FBI_DESCR IUCR_CD        IUCR_SECONDARY MONTH  \\\n",
       "0  HOMICIDE - 1ST OR 2ND DEGREE (INDEX)    0110   FIRST DEGREE MURDER     5   \n",
       "1            AGGRAVATED BATTERY (INDEX)    041A  AGGRAVATED - HANDGUN     5   \n",
       "2  HOMICIDE - 1ST OR 2ND DEGREE (INDEX)    0110   FIRST DEGREE MURDER     5   \n",
       "\n",
       "  DAY_OF_WEEK HOUR   LATITUDE  LONGITUDE  \\\n",
       "0           4   11  41.759333 -87.615011   \n",
       "1           2    0  41.919410 -87.755999   \n",
       "2           2   21  41.875343 -87.684209   \n",
       "\n",
       "                                   LOCATION  \n",
       "0  POINT (-87.615010941301 41.759333095858)  \n",
       "1  POINT (-87.755998547471 41.919409668947)  \n",
       "2  POINT (-87.684209058699 41.875343095858)  \n",
       "\n",
       "[3 rows x 25 columns]"
      ]
     },
     "execution_count": 4,
     "metadata": {},
     "output_type": "execute_result"
    }
   ],
   "source": [
    "df.head(3)"
   ]
  },
  {
   "cell_type": "code",
   "execution_count": 5,
   "id": "ac8583e4-984a-4a18-8442-ea9e8b48da2b",
   "metadata": {
    "tags": []
   },
   "outputs": [],
   "source": [
    "df.columns = df.columns.str.lower()"
   ]
  },
  {
   "cell_type": "code",
   "execution_count": 7,
   "id": "d3d50e89-37bb-4c31-bcf8-8e83ac1b3f4a",
   "metadata": {
    "tags": []
   },
   "outputs": [
    {
     "data": {
      "text/html": [
       "<div>\n",
       "<style scoped>\n",
       "    .dataframe tbody tr th:only-of-type {\n",
       "        vertical-align: middle;\n",
       "    }\n",
       "\n",
       "    .dataframe tbody tr th {\n",
       "        vertical-align: top;\n",
       "    }\n",
       "\n",
       "    .dataframe thead th {\n",
       "        text-align: right;\n",
       "    }\n",
       "</style>\n",
       "<table border=\"1\" class=\"dataframe\">\n",
       "  <thead>\n",
       "    <tr style=\"text-align: right;\">\n",
       "      <th></th>\n",
       "      <th>case_number</th>\n",
       "      <th>date</th>\n",
       "      <th>block</th>\n",
       "      <th>primary_type</th>\n",
       "      <th>unique_id</th>\n",
       "      <th>zip_code</th>\n",
       "      <th>ward</th>\n",
       "      <th>community_area</th>\n",
       "      <th>street outreach organization</th>\n",
       "      <th>area</th>\n",
       "      <th>...</th>\n",
       "      <th>fbi_cd</th>\n",
       "      <th>fbi_descr</th>\n",
       "      <th>iucr_cd</th>\n",
       "      <th>iucr_secondary</th>\n",
       "      <th>month</th>\n",
       "      <th>day_of_week</th>\n",
       "      <th>hour</th>\n",
       "      <th>latitude</th>\n",
       "      <th>longitude</th>\n",
       "      <th>location</th>\n",
       "    </tr>\n",
       "  </thead>\n",
       "  <tbody>\n",
       "    <tr>\n",
       "      <th>0</th>\n",
       "      <td>JE235091</td>\n",
       "      <td>05/19/2021 11:20:00 AM</td>\n",
       "      <td>7400  S DR MARTIN</td>\n",
       "      <td>FATAL SHOOTING</td>\n",
       "      <td>HOM-JE235091-1</td>\n",
       "      <td>60619</td>\n",
       "      <td>6</td>\n",
       "      <td>GREATER GRAND CROSSING</td>\n",
       "      <td>Acclivus Greater Grand Crossing</td>\n",
       "      <td>1</td>\n",
       "      <td>...</td>\n",
       "      <td>01A</td>\n",
       "      <td>HOMICIDE - 1ST OR 2ND DEGREE (INDEX)</td>\n",
       "      <td>0110</td>\n",
       "      <td>FIRST DEGREE MURDER</td>\n",
       "      <td>5</td>\n",
       "      <td>4</td>\n",
       "      <td>11</td>\n",
       "      <td>41.759333</td>\n",
       "      <td>-87.615011</td>\n",
       "      <td>POINT (-87.615010941301 41.759333095858)</td>\n",
       "    </tr>\n",
       "    <tr>\n",
       "      <th>1</th>\n",
       "      <td>JE240540</td>\n",
       "      <td>05/24/2021 12:01:00 AM</td>\n",
       "      <td>2000  N LARAMIE AVE</td>\n",
       "      <td>FATAL SHOOTING</td>\n",
       "      <td>HOM-JE240540-1</td>\n",
       "      <td>60639</td>\n",
       "      <td>36</td>\n",
       "      <td>BELMONT CRAGIN</td>\n",
       "      <td>ALSO Belmont Cragin</td>\n",
       "      <td>3</td>\n",
       "      <td>...</td>\n",
       "      <td>04B</td>\n",
       "      <td>AGGRAVATED BATTERY (INDEX)</td>\n",
       "      <td>041A</td>\n",
       "      <td>AGGRAVATED - HANDGUN</td>\n",
       "      <td>5</td>\n",
       "      <td>2</td>\n",
       "      <td>0</td>\n",
       "      <td>41.919410</td>\n",
       "      <td>-87.755999</td>\n",
       "      <td>POINT (-87.755998547471 41.919409668947)</td>\n",
       "    </tr>\n",
       "    <tr>\n",
       "      <th>2</th>\n",
       "      <td>JE241639</td>\n",
       "      <td>05/24/2021 09:05:00 PM</td>\n",
       "      <td>500  S OAKLEY BLVD</td>\n",
       "      <td>FATAL SHOOTING</td>\n",
       "      <td>HOM-JE241639-1</td>\n",
       "      <td>60612</td>\n",
       "      <td>28</td>\n",
       "      <td>NEAR WEST SIDE</td>\n",
       "      <td>None</td>\n",
       "      <td>3</td>\n",
       "      <td>...</td>\n",
       "      <td>01A</td>\n",
       "      <td>HOMICIDE - 1ST OR 2ND DEGREE (INDEX)</td>\n",
       "      <td>0110</td>\n",
       "      <td>FIRST DEGREE MURDER</td>\n",
       "      <td>5</td>\n",
       "      <td>2</td>\n",
       "      <td>21</td>\n",
       "      <td>41.875343</td>\n",
       "      <td>-87.684209</td>\n",
       "      <td>POINT (-87.684209058699 41.875343095858)</td>\n",
       "    </tr>\n",
       "  </tbody>\n",
       "</table>\n",
       "<p>3 rows × 25 columns</p>\n",
       "</div>"
      ],
      "text/plain": [
       "  case_number                    date                block    primary_type  \\\n",
       "0    JE235091  05/19/2021 11:20:00 AM    7400  S DR MARTIN  FATAL SHOOTING   \n",
       "1    JE240540  05/24/2021 12:01:00 AM  2000  N LARAMIE AVE  FATAL SHOOTING   \n",
       "2    JE241639  05/24/2021 09:05:00 PM   500  S OAKLEY BLVD  FATAL SHOOTING   \n",
       "\n",
       "        unique_id  zip_code  ward          community_area  \\\n",
       "0  HOM-JE235091-1     60619     6  GREATER GRAND CROSSING   \n",
       "1  HOM-JE240540-1     60639    36          BELMONT CRAGIN   \n",
       "2  HOM-JE241639-1     60612    28          NEAR WEST SIDE   \n",
       "\n",
       "      street outreach organization  area  ...  fbi_cd  \\\n",
       "0  Acclivus Greater Grand Crossing     1  ...     01A   \n",
       "1              ALSO Belmont Cragin     3  ...     04B   \n",
       "2                             None     3  ...     01A   \n",
       "\n",
       "                              fbi_descr iucr_cd        iucr_secondary month  \\\n",
       "0  HOMICIDE - 1ST OR 2ND DEGREE (INDEX)    0110   FIRST DEGREE MURDER     5   \n",
       "1            AGGRAVATED BATTERY (INDEX)    041A  AGGRAVATED - HANDGUN     5   \n",
       "2  HOMICIDE - 1ST OR 2ND DEGREE (INDEX)    0110   FIRST DEGREE MURDER     5   \n",
       "\n",
       "  day_of_week hour   latitude  longitude  \\\n",
       "0           4   11  41.759333 -87.615011   \n",
       "1           2    0  41.919410 -87.755999   \n",
       "2           2   21  41.875343 -87.684209   \n",
       "\n",
       "                                   location  \n",
       "0  POINT (-87.615010941301 41.759333095858)  \n",
       "1  POINT (-87.755998547471 41.919409668947)  \n",
       "2  POINT (-87.684209058699 41.875343095858)  \n",
       "\n",
       "[3 rows x 25 columns]"
      ]
     },
     "execution_count": 7,
     "metadata": {},
     "output_type": "execute_result"
    }
   ],
   "source": [
    "df.head(3)"
   ]
  },
  {
   "cell_type": "code",
   "execution_count": 14,
   "id": "64115075-fcaa-4051-861d-958375eb945f",
   "metadata": {
    "tags": []
   },
   "outputs": [
    {
     "data": {
      "text/plain": [
       "(19530, 25)"
      ]
     },
     "execution_count": 14,
     "metadata": {},
     "output_type": "execute_result"
    }
   ],
   "source": [
    "df.shape"
   ]
  },
  {
   "cell_type": "code",
   "execution_count": 8,
   "id": "28740ea7-a80d-4c1d-9f60-a91ba9c8a105",
   "metadata": {
    "tags": []
   },
   "outputs": [
    {
     "data": {
      "text/plain": [
       "0"
      ]
     },
     "execution_count": 8,
     "metadata": {},
     "output_type": "execute_result"
    }
   ],
   "source": [
    "df.duplicated().sum()"
   ]
  },
  {
   "cell_type": "code",
   "execution_count": 9,
   "id": "6ca742d8-7d4f-4a2a-bc7c-e2f9acbb742d",
   "metadata": {
    "tags": []
   },
   "outputs": [
    {
     "data": {
      "text/plain": [
       "case_number                       0\n",
       "date                              0\n",
       "block                             0\n",
       "primary_type                      0\n",
       "unique_id                         0\n",
       "zip_code                          0\n",
       "ward                              0\n",
       "community_area                    0\n",
       "street outreach organization      0\n",
       "area                              0\n",
       "district                          0\n",
       "beat                              0\n",
       "age                             255\n",
       "sex                             202\n",
       "race                            202\n",
       "fbi_cd                            0\n",
       "fbi_descr                         0\n",
       "iucr_cd                           0\n",
       "iucr_secondary                    0\n",
       "month                             0\n",
       "day_of_week                       0\n",
       "hour                              0\n",
       "latitude                          0\n",
       "longitude                         0\n",
       "location                          0\n",
       "dtype: int64"
      ]
     },
     "execution_count": 9,
     "metadata": {},
     "output_type": "execute_result"
    }
   ],
   "source": [
    "df.isna().sum()"
   ]
  },
  {
   "cell_type": "code",
   "execution_count": 12,
   "id": "0a1352cb-a5c7-4758-ba62-837007002269",
   "metadata": {
    "tags": []
   },
   "outputs": [],
   "source": [
    "df[['age', 'sex', 'race']] = df[['age', 'sex', 'race']].fillna('no_info')"
   ]
  },
  {
   "cell_type": "code",
   "execution_count": 16,
   "id": "e7f4edcf-00c5-4315-91b9-c3e027b9007c",
   "metadata": {
    "tags": []
   },
   "outputs": [
    {
     "data": {
      "text/plain": [
       "case_number                      object\n",
       "date                             object\n",
       "block                            object\n",
       "primary_type                     object\n",
       "unique_id                        object\n",
       "zip_code                          int64\n",
       "ward                              int64\n",
       "community_area                   object\n",
       "street outreach organization     object\n",
       "area                              int64\n",
       "district                          int64\n",
       "beat                              int64\n",
       "age                              object\n",
       "sex                              object\n",
       "race                             object\n",
       "fbi_cd                           object\n",
       "fbi_descr                        object\n",
       "iucr_cd                          object\n",
       "iucr_secondary                   object\n",
       "month                             int64\n",
       "day_of_week                       int64\n",
       "hour                              int64\n",
       "latitude                        float64\n",
       "longitude                       float64\n",
       "location                         object\n",
       "dtype: object"
      ]
     },
     "execution_count": 16,
     "metadata": {},
     "output_type": "execute_result"
    }
   ],
   "source": [
    "df.dtypes"
   ]
  },
  {
   "cell_type": "code",
   "execution_count": 15,
   "id": "edeb71ac-cdf1-49d3-b039-5543597e2e86",
   "metadata": {
    "tags": []
   },
   "outputs": [
    {
     "data": {
      "text/plain": [
       "Index(['case_number', 'date', 'block', 'primary_type', 'unique_id', 'zip_code',\n",
       "       'ward', 'community_area', 'street outreach organization', 'area',\n",
       "       'district', 'beat', 'age', 'sex', 'race', 'fbi_cd', 'fbi_descr',\n",
       "       'iucr_cd', 'iucr_secondary', 'month', 'day_of_week', 'hour', 'latitude',\n",
       "       'longitude', 'location'],\n",
       "      dtype='object')"
      ]
     },
     "execution_count": 15,
     "metadata": {},
     "output_type": "execute_result"
    }
   ],
   "source": [
    "df.columns"
   ]
  },
  {
   "cell_type": "code",
   "execution_count": 19,
   "id": "41173d45-5ff0-4d49-b86f-b80d6bbc3b06",
   "metadata": {
    "tags": []
   },
   "outputs": [
    {
     "data": {
      "text/plain": [
       "15636"
      ]
     },
     "execution_count": 19,
     "metadata": {},
     "output_type": "execute_result"
    }
   ],
   "source": [
    "df.case_number.nunique()"
   ]
  },
  {
   "cell_type": "code",
   "execution_count": null,
   "id": "df192e8c-5594-48e3-bbf5-3c659222b30b",
   "metadata": {},
   "outputs": [],
   "source": []
  }
 ],
 "metadata": {
  "kernelspec": {
   "display_name": "Python 3 (ipykernel)",
   "language": "python",
   "name": "python3"
  },
  "language_info": {
   "codemirror_mode": {
    "name": "ipython",
    "version": 3
   },
   "file_extension": ".py",
   "mimetype": "text/x-python",
   "name": "python",
   "nbconvert_exporter": "python",
   "pygments_lexer": "ipython3",
   "version": "3.10.6"
  }
 },
 "nbformat": 4,
 "nbformat_minor": 5
}
